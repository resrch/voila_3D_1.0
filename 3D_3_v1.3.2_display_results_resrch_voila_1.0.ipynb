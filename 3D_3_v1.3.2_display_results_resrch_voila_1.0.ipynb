{
 "cells": [
  {
   "cell_type": "markdown",
   "metadata": {},
   "source": [
    "## Results 3D_1.0.01 using grayscale ultrasound phantom data\n",
    "## Display: ultrasound data plus thresholded, segmented, binary filtered data, with 3D rendering\n",
    "\n",
    "Author: William (Rick) Weitzel, 2020, Revised 2021 <br>\n",
    "For investigational use only and prepared for release under open source 3-clause BSD license (see code for full open source license) <br>\n",
    "This work is partly supported by the US Dept of Veterans Affairs <br>"
   ]
  },
  {
   "cell_type": "code",
   "execution_count": 1,
   "metadata": {},
   "outputs": [],
   "source": [
    "# Author: 2020 and 2021 William (Rick) Weitzel\n",
    "# For investigational use only and prepared for release under open source 3-clause BSD license\n",
    "# (BSD license) Redistribution and use in source and binary forms, with or without modification, are permitted provided that the following conditions are met:\n",
    "# Redistributions of source code must retain the above copyright notice, this list of conditions and the following disclaimer.\n",
    "# Redistributions in binary form must reproduce the above copyright notice, this list of conditions and the following disclaimer in the documentation and/or other materials provided with the distribution.\n",
    "# Neither the name of the copyright holder nor the names of its contributors may be used to endorse or promote products derived from this software without specific prior written permission.\n",
    "# THIS SOFTWARE IS PROVIDED BY THE COPYRIGHT HOLDERS AND CONTRIBUTORS \"AS IS\" AND ANY EXPRESS OR IMPLIED WARRANTIES, INCLUDING, BUT NOT LIMITED TO, THE IMPLIED WARRANTIES OF MERCHANTABILITY AND FITNESS FOR A PARTICULAR PURPOSE ARE DISCLAIMED. IN NO EVENT SHALL THE COPYRIGHT HOLDER OR CONTRIBUTORS BE LIABLE FOR ANY DIRECT, INDIRECT, INCIDENTAL, SPECIAL, EXEMPLARY, OR CONSEQUENTIAL DAMAGES (INCLUDING, BUT NOT LIMITED TO, PROCUREMENT OF SUBSTITUTE GOODS OR SERVICES; LOSS OF USE, DATA, OR PROFITS; OR BUSINESS INTERRUPTION) HOWEVER CAUSED AND ON ANY THEORY OF LIABILITY, WHETHER IN CONTRACT, STRICT LIABILITY, OR TORT (INCLUDING NEGLIGENCE OR OTHERWISE) ARISING IN ANY WAY OUT OF THE USE OF THIS SOFTWARE, EVEN IF ADVISED OF THE POSSIBILITY OF SUCH DAMAGE. "
   ]
  },
  {
   "cell_type": "code",
   "execution_count": 2,
   "metadata": {},
   "outputs": [],
   "source": [
    "# libraries for data plotting and interaction\n",
    "import matplotlib.pyplot as plt\n",
    "import numpy as np\n",
    "import ipyvolume as ipv\n",
    "import ipywidgets as widgets\n",
    "from ipywidgets import interact"
   ]
  },
  {
   "cell_type": "code",
   "execution_count": 3,
   "metadata": {},
   "outputs": [],
   "source": [
    "file_path = ''"
   ]
  },
  {
   "cell_type": "code",
   "execution_count": 4,
   "metadata": {},
   "outputs": [],
   "source": [
    "usn_pixel_data = np.load(file_path + 'phantom_Y_crop_data.npy')\n",
    "usn_binary_data = np.load(file_path + 'phantom_3D_seg_dil_1_close_5.npy')"
   ]
  },
  {
   "cell_type": "code",
   "execution_count": 5,
   "metadata": {},
   "outputs": [],
   "source": [
    "shape = usn_pixel_data.shape\n",
    "shape_binary = usn_binary_data.shape"
   ]
  },
  {
   "cell_type": "code",
   "execution_count": 6,
   "metadata": {},
   "outputs": [
    {
     "data": {
      "application/vnd.jupyter.widget-view+json": {
       "model_id": "5c4b955ffcf54ea18ad6312878fb59a0",
       "version_major": 2,
       "version_minor": 0
      },
      "text/plain": [
       "interactive(children=(IntSlider(value=0, continuous_update=False, description='frame number', max=69, style=Sl…"
      ]
     },
     "metadata": {},
     "output_type": "display_data"
    }
   ],
   "source": [
    "# interactive plot of the ultrasound B-mode data\n",
    "# master plot frame widget m_plot_frame\n",
    "usn_pixel_data_used = usn_pixel_data[5:75,:,:]\n",
    "def m_plot_frame(frame_number):\n",
    "    plt.imshow(usn_pixel_data_used[frame_number,:,:], cmap='gray')\n",
    "    plt.title('ultrasound B-mode data', loc='center')\n",
    "    plt.xlabel('pixels')\n",
    "    plt.ylabel('pixels')\n",
    "    return \n",
    "widgets.Label(value='ultrasound data')\n",
    "description_wider = {'description_width': 'initial'}\n",
    "interact(m_plot_frame,\n",
    "         frame_number=widgets.IntSlider(value=0,\\\n",
    "    min=0, max=len(usn_pixel_data_used)-1, step=1,description='frame number',\\\n",
    "    continuous_update=False, style=description_wider),\n",
    "        );"
   ]
  },
  {
   "cell_type": "code",
   "execution_count": 7,
   "metadata": {
    "scrolled": true
   },
   "outputs": [
    {
     "data": {
      "application/vnd.jupyter.widget-view+json": {
       "model_id": "da2c39f223dc468a8ecbf1b0eabc435c",
       "version_major": 2,
       "version_minor": 0
      },
      "text/plain": [
       "interactive(children=(IntSlider(value=0, continuous_update=False, description='frame_number', max=69, style=Sl…"
      ]
     },
     "metadata": {},
     "output_type": "display_data"
    }
   ],
   "source": [
    "# now let's examine the filtered vessel segment interactively \n",
    "usn_binary_data_used = usn_binary_data[5:75,:,:]\n",
    "def plot_vessel_segment(frame_number):\n",
    "    frame = usn_binary_data_used[frame_number,:,:]\n",
    "    plt.imshow(frame, cmap='gray')\n",
    "    plt.title('vessel segment data', loc='center')\n",
    "    plt.xlabel('pixels')\n",
    "    plt.ylabel('pixels')\n",
    "\n",
    "description_wider = {'description_width': 'initial'}\n",
    "interact(plot_vessel_segment, frame_number=widgets.IntSlider(min=0, \n",
    "    max=len(usn_binary_data_used)-1, step=1,value=0, continuous_update=False,\n",
    "    style=description_wider));"
   ]
  },
  {
   "cell_type": "code",
   "execution_count": 8,
   "metadata": {},
   "outputs": [],
   "source": [
    "# select range for sono-tomogram\n",
    "sono_tomo_data = usn_binary_data[:,25:120,:]"
   ]
  },
  {
   "cell_type": "code",
   "execution_count": 9,
   "metadata": {},
   "outputs": [
    {
     "data": {
      "text/plain": [
       "(80, 95, 570)"
      ]
     },
     "execution_count": 9,
     "metadata": {},
     "output_type": "execute_result"
    }
   ],
   "source": [
    "z_max, y_max, x_max = sono_tomo_data.shape"
   ]
  },
  {
   "cell_type": "code",
   "execution_count": 10,
   "metadata": {},
   "outputs": [],
   "source": [
    "sono_tomo_dataT = sono_tomo_data.T"
   ]
  },
  {
   "cell_type": "code",
   "execution_count": 11,
   "metadata": {},
   "outputs": [
    {
     "data": {
      "application/vnd.jupyter.widget-view+json": {
       "model_id": "b0e1fa9c84a44c00a961f2341118bb61",
       "version_major": 2,
       "version_minor": 0
      },
      "text/plain": [
       "interactive(children=(IntSlider(value=0, continuous_update=False, description='top_view_slice', max=94, style=…"
      ]
     },
     "metadata": {},
     "output_type": "display_data"
    }
   ],
   "source": [
    "# tomogram (sono-tomogram) t_plot_frame\n",
    "# examine slices along the y-axis in this coordinate system\n",
    "\n",
    "def t_plot_frame(top_view_slice):\n",
    "    frame = sono_tomo_dataT[:,top_view_slice,:]\n",
    "    plt.imshow(frame, cmap='gray', aspect=0.05)\n",
    "    plt.title('ultrasound tomography \"top view\" data', loc='center')\n",
    "    plt.xlabel('pixels')\n",
    "    plt.ylabel('pixels')\n",
    "\n",
    "description_wider = {'description_width': 'initial'}\n",
    "interact(t_plot_frame, top_view_slice=widgets.IntSlider(min=0, \n",
    "    max=y_max-1, step=1,value=0, continuous_update=False,\n",
    "    style=description_wider));"
   ]
  },
  {
   "cell_type": "code",
   "execution_count": 12,
   "metadata": {},
   "outputs": [],
   "source": [
    "# Next: sum up the image - like a 2D fistulogram - along this axis\n",
    "# invert the result to make display similar to the angiogram\n",
    "result = np.sum(sono_tomo_dataT[:,:,:], axis = 1)\n",
    "result_inv = 255 - result"
   ]
  },
  {
   "cell_type": "code",
   "execution_count": 13,
   "metadata": {},
   "outputs": [
    {
     "data": {
      "image/png": "[encoded data removed]",
      "text/plain": [
       "<Figure size 432x288 with 1 Axes>"
      ]
     },
     "metadata": {
      "needs_background": "light"
     },
     "output_type": "display_data"
    }
   ],
   "source": [
    "plt.imshow(result_inv, aspect = 0.05, cmap='gray');\n",
    "plt.title(' \"sono-angiogram\" using ultrasound data', loc='center');\n",
    "plt.xlabel('pixels');\n",
    "plt.ylabel('pixels');"
   ]
  },
  {
   "cell_type": "code",
   "execution_count": 14,
   "metadata": {},
   "outputs": [],
   "source": [
    "# flip data: obtain proper orientation for display\n",
    "data_flip_y = np.flip(usn_binary_data, axis=1)\n",
    "data_flip_x = np.flip(data_flip_y, axis=2)\n",
    "data_flip = data_flip_x"
   ]
  },
  {
   "cell_type": "code",
   "execution_count": 15,
   "metadata": {},
   "outputs": [],
   "source": [
    "# need to pad the data depending on cropping and image scale\n",
    "zero_pad_data = np.pad(data_flip, (300,300), \\\n",
    "                       mode='constant', constant_values = (0,0))"
   ]
  },
  {
   "cell_type": "code",
   "execution_count": 16,
   "metadata": {},
   "outputs": [],
   "source": [
    "trim_zero_pad = zero_pad_data[300:380,:,:] #for Y-shaped phantom 80 frames"
   ]
  },
  {
   "cell_type": "code",
   "execution_count": 17,
   "metadata": {},
   "outputs": [
    {
     "name": "stderr",
     "output_type": "stream",
     "text": [
      "/Users/rick/Projects/resrch_voila_3D_phantom_1.0/env/lib/python3.9/site-packages/ipyvolume/widgets.py:179: FutureWarning: Using a non-tuple sequence for multidimensional indexing is deprecated; use `arr[tuple(seq)]` instead of `arr[seq]`. In the future this will be interpreted as an array index, `arr[np.array(seq)]`, which will result either in an error or a different result.\n",
      "  data_view = self.data_original[view]\n",
      "/Users/rick/Projects/resrch_voila_3D_phantom_1.0/env/lib/python3.9/site-packages/ipyvolume/utils.py:204: FutureWarning: Using a non-tuple sequence for multidimensional indexing is deprecated; use `arr[tuple(seq)]` instead of `arr[seq]`. In the future this will be interpreted as an array index, `arr[np.array(seq)]`, which will result either in an error or a different result.\n",
      "  data = (data[slices1] + data[slices2])/2\n",
      "/Users/rick/Projects/resrch_voila_3D_phantom_1.0/env/lib/python3.9/site-packages/ipyvolume/serialize.py:81: RuntimeWarning: invalid value encountered in true_divide\n",
      "  gradient = gradient / np.sqrt(gradient[0]**2 + gradient[1]**2 + gradient[2]**2)\n"
     ]
    },
    {
     "data": {
      "application/vnd.jupyter.widget-view+json": {
       "model_id": "6f874d2e7e6b4503a0fbaad05adadfd5",
       "version_major": 2,
       "version_minor": 0
      },
      "text/plain": [
       "VBox(children=(VBox(children=(HBox(children=(Label(value='levels:'), FloatSlider(value=0.25, max=1.0, step=0.0…"
      ]
     },
     "metadata": {},
     "output_type": "display_data"
    }
   ],
   "source": [
    "# V = data_flip\n",
    "V = trim_zero_pad\n",
    "ipv.figure()\n",
    "ipv.volshow(V, level=[0.45, 0.75], opacity=0.1, level_width=0.1, data_min=0, data_max=1)\n",
    "ipv.view(-80,20)\n",
    "ipv.show()"
   ]
  },
  {
   "cell_type": "code",
   "execution_count": null,
   "metadata": {},
   "outputs": [],
   "source": []
  }
 ],
 "metadata": {
  "kernelspec": {
   "display_name": "Python 3",
   "language": "python",
   "name": "python3"
  },
  "language_info": {
   "codemirror_mode": {
    "name": "ipython",
    "version": 3
   },
   "file_extension": ".py",
   "mimetype": "text/x-python",
   "name": "python",
   "nbconvert_exporter": "python",
   "pygments_lexer": "ipython3",
   "version": "3.9.5"
  }
 },
 "nbformat": 4,
 "nbformat_minor": 4
}
